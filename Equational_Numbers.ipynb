{
 "cells": [
  {
   "cell_type": "markdown",
   "id": "77140819",
   "metadata": {},
   "source": [
    "# Equational Numbers\n",
    "\n",
    "I recently wondered about numbers that could be converted into valid equations by inserting operations and an equals sign. Some examples:\n",
    "- 123 (1 + 2 = 3)\n",
    "- 725 (7 = 2 + 5)\n",
    "- 1010250 (10 x 10 / 2 = 50)\n",
    "\n",
    "Of course, the first step was to search OEIS. I found this closely related but slightly different sequence : https://oeis.org/A068520 . It's basically the same idea, but the equals sign is constrained to be in the final position, whereas in my thought it could be anywhere.\n",
    "\n",
    "I was a wondering about how to code this up, and was quite muddled, but looking at the code from that OEIS link (https://github.com/archmageirvine/joeis/blob/master/src/irvine/oeis/a068/A068520.java), I can see that doing a top down construction of the operation tree should work well.\n",
    "\n",
    "So, let me explore this further.\n",
    "\n",
    "Beyond the primary question of what are the numbers that meet this constraint, many questions are possible:\n",
    "- what is the smallest N digit equation number?\n",
    "- what is the first equation number to use all 4 different operators ?\n",
    "- what is the first equation number to use all 10 digits ?\n",
    "- Both of those combined?\n",
    "- First equation number with N distinct valid equations?\n",
    "- What happens if you also allow exponentation as an operator ?\n",
    "- How does the fraction of equational numbers evolve as the numbers grow larger ?\n",
    "\n",
    "Let's go."
   ]
  },
  {
   "cell_type": "code",
   "execution_count": 39,
   "id": "839d1fbe",
   "metadata": {},
   "outputs": [],
   "source": [
    "from enum import Flag, auto\n",
    "# EI = Equation number Info\n",
    "class EI(Flag):\n",
    "    NOTHING = 0\n",
    "    MATCH_LIST = auto()\n",
    "    MATCH_CNT = auto()\n",
    "    MATCH_PCT = auto()    \n",
    "    MATCH_EQNS = auto()\n",
    "    FIRSTS = auto()\n",
    "    NON_MATCH_LIST = auto()\n",
    "    NON_MATCH_CNT = auto()    \n",
    "    NON_MATCH_PCT = auto()       \n",
    "    \n",
    "\n",
    "set_digits = set([str(i) for i in range(10)])\n",
    "set_operators = set(['+', '-', '*', '/', '**'])\n",
    "set_operators_alt = set(['+', '-', '*', '/', '^'])\n",
    "set_brackets = set(['(', ')'])\n",
    "\n",
    "def all_equations(n, equals_anywhere=True, allow_exp=False):\n",
    "    str_n = str(n)\n",
    "    len_n = len(str_n)\n",
    "    split_pos_start = len_n - 1 if not equals_anywhere else 2 if (len_n > 1 and str_n[0] == '-') else 1\n",
    "    split_pos_end = len_n - 1    \n",
    "    for split_pos in range(split_pos_start, split_pos_end + 1):\n",
    "        left = str_n[:split_pos]\n",
    "        right = str_n[split_pos:]\n",
    "        left_exprs = all_expressions(left, allow_exp)\n",
    "        right_exprs = all_expressions(right, allow_exp)\n",
    "        for left_expr in left_exprs:\n",
    "            for right_expr in right_exprs:\n",
    "                if left_expr and right_expr:                    \n",
    "                    yield f\"{left_expr}=={right_expr}\"\n",
    "\n",
    "from functools import lru_cache\n",
    "\n",
    "@lru_cache(maxsize=8192)\n",
    "def all_expressions(str_n, allow_exp=False):\n",
    "    expressions = [str_n]\n",
    "    len_n = len(str_n)\n",
    "    split_pos_start = 2 if (len_n > 1 and str_n[0] == '-') else 1\n",
    "    split_pos_end = len_n - 1\n",
    "    active_operators = [op for op in set_operators if op != '**' or allow_exp]\n",
    "    for split_pos in range(split_pos_start, split_pos_end + 1):\n",
    "        left = str_n[:split_pos]\n",
    "        right = str_n[split_pos:]\n",
    "        left_exprs = all_expressions(left, allow_exp)\n",
    "        right_exprs = all_expressions(right, allow_exp)\n",
    "        for left_expr in left_exprs:\n",
    "            for right_expr in right_exprs:\n",
    "                if left_expr and right_expr:\n",
    "                    for op in active_operators:\n",
    "                        expressions.append(f\"({left_expr}){op}({right_expr})\")\n",
    "                    \n",
    "    return expressions\n",
    "\n",
    "# Note that some equations like '22=022' will return False because python does not allow leading zeros.\n",
    "# But such numbers will still have valid equations like 22=0+22.\n",
    "# So, which numbers do and don't have valid equations stay the same.\n",
    "# But equation counts may differ from other implementations.\n",
    "# It's kinda fine because humans usually don't think of numbers with leading zeroes.\n",
    "# And it is definitely better than interpreting '022' as an octal number, i.e. decimal 18.\n",
    "def is_true_equation(equation):\n",
    "    try:\n",
    "        ee = eval(equation)\n",
    "        return ee is True\n",
    "    except (SyntaxError, ZeroDivisionError, NameError):\n",
    "        return False\n",
    "\n",
    "def equation_signature(equation):\n",
    "    equation_mod = equation\n",
    "    equation_mod = equation_mod.replace('**', '^')\n",
    "    set_e = set(equation)\n",
    "    set_d = set_e & set_digits\n",
    "    set_o = set_e & set_operators_alt\n",
    "    #set_b = set_e & set_brackets\n",
    "    return f\"num_digits={len(set_d)}, num_ops={len(set_o)}\"\n",
    "\n",
    "from pprint import pprint\n",
    "def find_equational_numbers(min_n=1, max_n=1000, \n",
    "                            equals_anywhere=True,\n",
    "                            allow_exp=False,\n",
    "                            print_info : EI = EI.MATCH_CNT|EI.MATCH_LIST,\n",
    "                            return_info : EI = EI.NOTHING):\n",
    "    desired_info = print_info | return_info if return_info else print_info\n",
    "    equational_numbers= []\n",
    "    non_equational_numbers = []\n",
    "    equational_numbers_with_equations = {}\n",
    "    signatures_seen = []\n",
    "    counts_seen = []\n",
    "    for n in range(min_n, max_n + 1):        \n",
    "        true_equations = []                \n",
    "        for equation in all_equations(n, equals_anywhere, allow_exp):\n",
    "            if is_true_equation(equation):                \n",
    "                true_equations.append(equation)\n",
    "                if (EI.FIRSTS in desired_info):\n",
    "                    sig = equation_signature(equation)\n",
    "                    if sig not in signatures_seen:\n",
    "                        print(f\"First number with {sig}: {n}: {equation}\")\n",
    "                        signatures_seen.append(sig)                \n",
    "                if (not(EI.MATCH_EQNS in desired_info or EI.FIRSTS in desired_info)):\n",
    "                    break\n",
    "        if true_equations:\n",
    "            if (EI.MATCH_EQNS in desired_info):\n",
    "               equational_numbers_with_equations[n] = true_equations\n",
    "            if (EI.MATCH_LIST in desired_info or EI.MATCH_CNT in desired_info or EI.MATCH_PCT in desired_info):\n",
    "                equational_numbers.append(n)\n",
    "            if (EI.FIRSTS in desired_info):\n",
    "                num_equations = len(true_equations)\n",
    "                if num_equations not in counts_seen:\n",
    "                    print(f\"First number with {num_equations} distinct equations: {n}:\", end=' ')\n",
    "                    pprint(true_equations, compact=True, width=120)\n",
    "                    counts_seen.append(num_equations)                \n",
    "        else:\n",
    "            if (EI.NON_MATCH_LIST in desired_info or EI.NON_MATCH_CNT in desired_info or EI.NON_MATCH_PCT in desired_info):\n",
    "                non_equational_numbers.append(n)\n",
    "    equational_count = len(equational_numbers)\n",
    "    non_equational_count = len(non_equational_numbers)\n",
    "    equational_percentage = 100*equational_count /(max_n - min_n + 1)\n",
    "    non_equational_percentage = 100*non_equational_count /(max_n - min_n + 1)\n",
    "    if (EI.MATCH_CNT in print_info or EI.MATCH_PCT in print_info):\n",
    "        print(f\"From {min_n} to {max_n}: {equational_count} equational numbers found ({equational_percentage:.2f}%)\")\n",
    "    if (EI.MATCH_LIST in print_info):\n",
    "        pprint(equational_numbers, width=120, compact=True)\n",
    "    if (EI.NON_MATCH_CNT in print_info or EI.NON_MATCH_PCT in print_info):\n",
    "        print(f\"From {min_n} to {max_n}: {non_equational_count} non-equational numbers found ({non_equational_percentage:.2f}%)\")\n",
    "    if (EI.NON_MATCH_LIST in print_info):\n",
    "        pprint(non_equational_numbers, width=120, compact=True)\n",
    "    if (EI.MATCH_EQNS in print_info):\n",
    "        print(f\"From {min_n} to {max_n}: {len(equational_numbers_with_equations)} numbers with equations found\")\n",
    "        pprint(equational_numbers_with_equations, width=120)\n",
    "    match return_info:\n",
    "        case EI.MATCH_CNT:\n",
    "            return equational_count\n",
    "        case EI.MATCH_PCT:\n",
    "            return equational_percentage\n",
    "        case EI.MATCH_LIST:\n",
    "            return equational_numbers\n",
    "        case EI.NON_MATCH_CNT:\n",
    "            return non_equational_count\n",
    "        case EI.NON_MATCH_PCT:\n",
    "            return non_equational_percentage\n",
    "        case EI.NON_MATCH_LIST:\n",
    "            return non_equational_numbers\n",
    "        case EI.MATCH_EQNS:\n",
    "            return equational_numbers_with_equations\n",
    "        case _:\n",
    "            return None"
   ]
  },
  {
   "cell_type": "markdown",
   "id": "1152cb92",
   "metadata": {},
   "source": [
    "# Equals sign in final position - A068520\n",
    "\n",
    "https://oeis.org/A068520  https://oeis.org/A068520/b068520.txt .  Recreating this known sequence helps make sure the code works as expected."
   ]
  },
  {
   "cell_type": "code",
   "execution_count": 40,
   "id": "2ace573e",
   "metadata": {},
   "outputs": [
    {
     "name": "stdout",
     "output_type": "stream",
     "text": [
      "From 1 to 1000: 144 equational numbers found (14.40%)\n",
      "[11, 22, 33, 44, 55, 66, 77, 88, 99, 100, 101, 110, 111, 112, 122, 123, 133, 134, 144, 145, 155, 156, 166, 167, 177,\n",
      " 178, 188, 189, 199, 200, 202, 211, 212, 213, 220, 221, 224, 235, 236, 246, 248, 257, 268, 279, 300, 303, 312, 313, 314,\n",
      " 321, 325, 326, 330, 331, 336, 339, 347, 358, 369, 400, 404, 413, 414, 415, 422, 426, 428, 431, 437, 440, 441, 448, 459,\n",
      " 500, 505, 514, 515, 516, 523, 527, 532, 538, 541, 549, 550, 551, 600, 606, 615, 616, 617, 623, 624, 628, 632, 633, 639,\n",
      " 642, 651, 660, 661, 700, 707, 716, 717, 718, 725, 729, 734, 743, 752, 761, 770, 771, 800, 808, 817, 818, 819, 824, 826,\n",
      " 835, 842, 844, 853, 862, 871, 880, 881, 900, 909, 918, 919, 927, 933, 936, 945, 954, 963, 972, 981, 990, 991, 1000]\n"
     ]
    }
   ],
   "source": [
    "find_equational_numbers(max_n=1000, equals_anywhere=False, allow_exp=False)"
   ]
  },
  {
   "cell_type": "code",
   "execution_count": 41,
   "id": "ba1c63dc",
   "metadata": {},
   "outputs": [],
   "source": [
    "# To demonstrate printouts\n",
    "# find_equational_numbers(max_n=331, \n",
    "#                        equals_in_last_place_only=True, allow_exponentiation=False,\n",
    "#                        print_info=EI.MATCH_CNT|EI.MATCH_LIST|EI.MATCH_EQNS|EI.NON_MATCH_CNT|EI.NON_MATCH_LIST|EI.FIRSTS)"
   ]
  },
  {
   "cell_type": "markdown",
   "id": "ea6fdd0b",
   "metadata": {},
   "source": [
    "# With Equals sign in any position."
   ]
  },
  {
   "cell_type": "code",
   "execution_count": 42,
   "id": "b9729e5d",
   "metadata": {},
   "outputs": [
    {
     "name": "stdout",
     "output_type": "stream",
     "text": [
      "From 1 to 1000: 185 equational numbers found (18.50%)\n",
      "[11, 22, 33, 44, 55, 66, 77, 88, 99, 100, 101, 110, 111, 112, 121, 122, 123, 132, 133, 134, 143, 144, 145, 154, 155,\n",
      " 156, 165, 166, 167, 176, 177, 178, 187, 188, 189, 198, 199, 200, 202, 211, 212, 213, 220, 221, 224, 231, 235, 236, 242,\n",
      " 246, 248, 253, 257, 263, 264, 268, 275, 279, 284, 286, 297, 300, 303, 312, 313, 314, 321, 325, 326, 330, 331, 336, 339,\n",
      " 341, 347, 352, 358, 362, 363, 369, 374, 385, 393, 396, 400, 404, 413, 414, 415, 422, 426, 428, 431, 437, 440, 441, 448,\n",
      " 451, 459, 462, 473, 482, 484, 495, 500, 505, 514, 515, 516, 523, 527, 532, 538, 541, 549, 550, 551, 561, 572, 583, 594,\n",
      " 600, 606, 615, 616, 617, 623, 624, 628, 632, 633, 639, 642, 651, 660, 661, 671, 682, 693, 700, 707, 716, 717, 718, 725,\n",
      " 729, 734, 743, 752, 761, 770, 771, 781, 792, 800, 808, 817, 818, 819, 824, 826, 835, 842, 844, 853, 862, 871, 880, 881,\n",
      " 891, 900, 909, 918, 919, 927, 933, 936, 945, 954, 963, 972, 981, 990, 991, 1000]\n"
     ]
    }
   ],
   "source": [
    "find_equational_numbers(max_n=1000, equals_anywhere=True, allow_exp=False)"
   ]
  },
  {
   "cell_type": "markdown",
   "id": "660ec285",
   "metadata": {},
   "source": [
    "This has a lot of commonality with https://oeis.org/A338214, but that is restricted to just multiply and add."
   ]
  },
  {
   "cell_type": "markdown",
   "id": "e104fd4c",
   "metadata": {},
   "source": [
    "# With Exponentiation as well."
   ]
  },
  {
   "cell_type": "code",
   "execution_count": 43,
   "id": "ce5fa6f6",
   "metadata": {},
   "outputs": [
    {
     "name": "stdout",
     "output_type": "stream",
     "text": [
      "From 1 to 1000: 162 equational numbers found (16.20%)\n",
      "[11, 22, 33, 44, 55, 66, 77, 88, 99, 100, 101, 110, 111, 112, 121, 122, 123, 131, 133, 134, 141, 144, 145, 151, 155,\n",
      " 156, 161, 166, 167, 171, 177, 178, 181, 188, 189, 191, 199, 200, 201, 202, 211, 212, 213, 220, 221, 224, 235, 236, 238,\n",
      " 246, 248, 257, 268, 279, 300, 301, 303, 312, 313, 314, 321, 325, 326, 329, 330, 331, 336, 339, 347, 358, 369, 400, 401,\n",
      " 404, 413, 414, 415, 422, 426, 428, 431, 437, 440, 441, 448, 459, 500, 501, 505, 514, 515, 516, 523, 527, 532, 538, 541,\n",
      " 549, 550, 551, 600, 601, 606, 615, 616, 617, 623, 624, 628, 632, 633, 639, 642, 651, 660, 661, 700, 701, 707, 716, 717,\n",
      " 718, 725, 729, 734, 743, 752, 761, 770, 771, 800, 801, 808, 817, 818, 819, 824, 826, 835, 842, 844, 853, 862, 871, 880,\n",
      " 881, 900, 901, 909, 918, 919, 927, 933, 936, 945, 954, 963, 972, 981, 990, 991, 1000]\n"
     ]
    }
   ],
   "source": [
    "find_equational_numbers(max_n=1000, equals_anywhere=False, allow_exp=True)"
   ]
  },
  {
   "cell_type": "code",
   "execution_count": 44,
   "id": "a3798a1b",
   "metadata": {},
   "outputs": [
    {
     "name": "stdout",
     "output_type": "stream",
     "text": [
      "From 1 to 1000: 219 equational numbers found (21.90%)\n",
      "[11, 22, 33, 44, 55, 66, 77, 88, 99, 100, 101, 110, 111, 112, 113, 114, 115, 116, 117, 118, 119, 120, 121, 122, 123,\n",
      " 130, 131, 132, 133, 134, 140, 141, 143, 144, 145, 150, 151, 154, 155, 156, 160, 161, 165, 166, 167, 170, 171, 176, 177,\n",
      " 178, 180, 181, 187, 188, 189, 190, 191, 198, 199, 200, 201, 202, 211, 212, 213, 220, 221, 224, 231, 235, 236, 238, 242,\n",
      " 246, 248, 253, 257, 263, 264, 268, 275, 279, 284, 286, 297, 300, 301, 303, 312, 313, 314, 321, 325, 326, 329, 330, 331,\n",
      " 336, 339, 341, 347, 352, 358, 362, 363, 369, 374, 385, 393, 396, 400, 401, 404, 413, 414, 415, 422, 426, 428, 431, 437,\n",
      " 440, 441, 448, 451, 459, 462, 473, 482, 484, 495, 500, 501, 505, 514, 515, 516, 523, 527, 532, 538, 541, 549, 550, 551,\n",
      " 561, 572, 583, 594, 600, 601, 606, 615, 616, 617, 623, 624, 628, 632, 633, 639, 642, 651, 660, 661, 671, 682, 693, 700,\n",
      " 701, 707, 716, 717, 718, 725, 729, 734, 743, 752, 761, 770, 771, 781, 792, 800, 801, 808, 817, 818, 819, 823, 824, 826,\n",
      " 835, 842, 844, 853, 862, 871, 880, 881, 891, 900, 901, 909, 918, 919, 927, 932, 933, 936, 945, 954, 963, 972, 981, 990,\n",
      " 991, 1000]\n"
     ]
    }
   ],
   "source": [
    "find_equational_numbers(max_n=1000, equals_anywhere=True, allow_exp=True)"
   ]
  },
  {
   "cell_type": "markdown",
   "id": "ec253172",
   "metadata": {},
   "source": [
    "Unsurprisingly, relaxing constraints allows more numbers to work.\n",
    "These 2 do not match anything on OEIS.\n",
    "Let's see the differences."
   ]
  },
  {
   "cell_type": "code",
   "execution_count": 45,
   "id": "53d39a52",
   "metadata": {},
   "outputs": [
    {
     "name": "stdout",
     "output_type": "stream",
     "text": [
      "Numbers newly allowed by free equals\n",
      "[121, 132, 143, 154, 165, 176, 187, 198]\n",
      "Numbers newly allowed by exponents\n",
      "[121, 131, 141, 151, 161, 171, 181, 191, 201]\n",
      "Numbers newly allowed by free equals (with exponents)\n",
      "[113, 114, 115, 116, 117, 118, 119, 120, 130, 132, 140, 143, 150, 154, 160, 165, 170, 176, 180, 187, 190, 198]\n",
      "Numbers newly allowed by exponents (with free equals)\n",
      "[113, 114, 115, 116, 117, 118, 119, 120, 130, 131, 140, 141, 150, 151, 160, 161, 170, 171, 180, 181, 190, 191, 201]\n"
     ]
    }
   ],
   "source": [
    "A = set(find_equational_numbers(max_n=222, equals_anywhere=False, allow_exp=False, print_info=EI.NOTHING, return_info=EI.MATCH_LIST))\n",
    "B = set(find_equational_numbers(max_n=222, equals_anywhere=True, allow_exp=False, print_info=EI.NOTHING, return_info=EI.MATCH_LIST))\n",
    "C = set(find_equational_numbers(max_n=222, equals_anywhere=False, allow_exp=True, print_info=EI.NOTHING, return_info=EI.MATCH_LIST))\n",
    "D = set(find_equational_numbers(max_n=222, equals_anywhere=True, allow_exp=True, print_info=EI.NOTHING, return_info=EI.MATCH_LIST))\n",
    "print(\"Numbers newly allowed by free equals\")\n",
    "pprint(sorted(list(B-A)), width=120)\n",
    "print(\"Numbers newly allowed by exponents\")\n",
    "pprint(sorted(list(C-A)), width=120)\n",
    "print(\"Numbers newly allowed by free equals (with exponents)\")\n",
    "pprint(sorted(list(D-C)), width=120)\n",
    "print(\"Numbers newly allowed by exponents (with free equals)\")\n",
    "pprint(sorted(list(D-B)), width=120)\n"
   ]
  },
  {
   "cell_type": "markdown",
   "id": "c73dcfb7",
   "metadata": {},
   "source": [
    "# Distribution\n",
    "\n",
    "Since the number of ways to construct equations grows exponentially with the number of digits, I wonder if all sufficiently larger numbers are \"equational numbers\". Let's check."
   ]
  },
  {
   "cell_type": "code",
   "execution_count": 49,
   "id": "3f56430e",
   "metadata": {},
   "outputs": [
    {
     "name": "stdout",
     "output_type": "stream",
     "text": [
      "From 1 to 9: 9 non-equational numbers found (100.00%)\n",
      "From 10 to 99: 81 non-equational numbers found (90.00%)\n",
      "From 100 to 999: 725 non-equational numbers found (80.56%)\n",
      "From 1000 to 9999: 4718 non-equational numbers found (52.42%)\n",
      "From 10000 to 99999: 11890 non-equational numbers found (13.21%)\n"
     ]
    }
   ],
   "source": [
    "for d in range(1,6):\n",
    "    min_n = 10**(d-1)\n",
    "    max_n = 10**d - 1\n",
    "    find_equational_numbers(min_n=min_n, max_n=max_n,equals_anywhere=True, allow_exp=False, print_info=EI.NON_MATCH_CNT)"
   ]
  },
  {
   "cell_type": "markdown",
   "id": "0c256cad",
   "metadata": {},
   "source": [
    "Saved results:<pre>\n",
    "From 1 to 9: 9 non-equational numbers found (100.00%)\n",
    "From 10 to 99: 81 non-equational numbers found (90.00%)\n",
    "From 100 to 999: 725 non-equational numbers found (80.56%)\n",
    "From 1000 to 9999: 4718 non-equational numbers found (52.42%)\n",
    "From 10000 to 99999: 11890 non-equational numbers found (13.21%)</pre>"
   ]
  },
  {
   "cell_type": "code",
   "execution_count": 50,
   "id": "bf457f3e",
   "metadata": {},
   "outputs": [
    {
     "name": "stdout",
     "output_type": "stream",
     "text": [
      "From 1000 to 9999: 4718 non-equational numbers found (52.42%)\n"
     ]
    }
   ],
   "source": [
    "find_equational_numbers(min_n=1000, max_n=9999,equals_anywhere=True, allow_exp=False, print_info=EI.NON_MATCH_CNT)"
   ]
  },
  {
   "cell_type": "markdown",
   "id": "c11e92d1",
   "metadata": {},
   "source": [
    "From 5000 to 6000: 554 non-equational numbers found (55.34%)"
   ]
  },
  {
   "cell_type": "code",
   "execution_count": 51,
   "id": "9a51c68c",
   "metadata": {},
   "outputs": [
    {
     "data": {
      "text/plain": [
       "CacheInfo(hits=889629, misses=89173, maxsize=8192, currsize=8192)"
      ]
     },
     "execution_count": 51,
     "metadata": {},
     "output_type": "execute_result"
    }
   ],
   "source": [
    "all_expressions.cache_info()"
   ]
  }
 ],
 "metadata": {
  "kernelspec": {
   "display_name": "Python 3",
   "language": "python",
   "name": "python3"
  },
  "language_info": {
   "codemirror_mode": {
    "name": "ipython",
    "version": 3
   },
   "file_extension": ".py",
   "mimetype": "text/x-python",
   "name": "python",
   "nbconvert_exporter": "python",
   "pygments_lexer": "ipython3",
   "version": "3.11.9"
  }
 },
 "nbformat": 4,
 "nbformat_minor": 5
}
